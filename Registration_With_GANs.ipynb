{
  "nbformat": 4,
  "nbformat_minor": 0,
  "metadata": {
    "colab": {
      "name": "Registration_With_GANs.ipynb",
      "provenance": [],
      "collapsed_sections": [],
      "machine_shape": "hm",
      "mount_file_id": "1Yg5lf-YjxwCJLnG-5bgwn-uXIMK_IZl-",
      "authorship_tag": "ABX9TyPHHgMrQmdLfkyeXKATQkO4",
      "include_colab_link": true
    },
    "kernelspec": {
      "name": "python3",
      "display_name": "Python 3"
    },
    "accelerator": "GPU"
  },
  "cells": [
    {
      "cell_type": "markdown",
      "metadata": {
        "id": "view-in-github",
        "colab_type": "text"
      },
      "source": [
        "<a href=\"https://colab.research.google.com/github/gwang37/RegistrationWithGANs/blob/main/Registration_With_GANs.ipynb\" target=\"_parent\"><img src=\"https://colab.research.google.com/assets/colab-badge.svg\" alt=\"Open In Colab\"/></a>"
      ]
    },
    {
      "cell_type": "markdown",
      "metadata": {
        "id": "iCpCMEvosqi-"
      },
      "source": [
        "## 1. Prepare data and voxelMorph code\n",
        "\n"
      ]
    },
    {
      "cell_type": "code",
      "metadata": {
        "id": "3aZm4U9zrPiF",
        "colab": {
          "base_uri": "https://localhost:8080/"
        },
        "outputId": "0a4142c5-9c29-4a78-dbd2-e8985bd57c6b"
      },
      "source": [
        "from google.colab import drive\n",
        "drive.mount('/content/drive/')\n",
        "\n",
        "import os\n",
        "os.chdir('/content/drive/MyDrive/Colab Notebooks/final/RegistGans')"
      ],
      "execution_count": 1,
      "outputs": [
        {
          "output_type": "stream",
          "text": [
            "Drive already mounted at /content/drive/; to attempt to forcibly remount, call drive.mount(\"/content/drive/\", force_remount=True).\n"
          ],
          "name": "stdout"
        }
      ]
    },
    {
      "cell_type": "code",
      "metadata": {
        "id": "69-rlU7qsx8W"
      },
      "source": [
        "import voxelmorph2d as vm2d\n",
        "import voxelmorph3d as vm3d\n",
        "\n",
        "import numpy as np\n",
        "import matplotlib.pyplot as plt\n",
        "import skimage.io as io\n",
        "from skimage.transform import resize\n",
        "import multiprocessing as mp\n",
        "from tqdm import tqdm\n",
        "import gc\n",
        "import time\n",
        "from sklearn.model_selection import train_test_split\n",
        "from matplotlib.lines import Line2D\n",
        "import numpy as np\n",
        "\n",
        "import torch\n",
        "import torchvision\n",
        "import torch.nn as nn\n",
        "import torch.nn.functional as F\n",
        "import torchvision.datasets as dataset\n",
        "import torchvision.transforms as transforms\n",
        "import torch.optim as optim\n",
        "from torch.utils import data\n",
        "from torch.autograd import Variable\n",
        "\n",
        "\n",
        "use_gpu = torch.cuda.is_available()"
      ],
      "execution_count": 2,
      "outputs": []
    },
    {
      "cell_type": "code",
      "metadata": {
        "id": "VJXkMXgBx2Zi"
      },
      "source": [
        "## Basic dataloading for MNIST.\n",
        "# Just to make sure it works for the rest of this notebook.\n",
        "\n",
        "transform = transforms.Compose([\n",
        "        # transforms.Resize(32),\n",
        "        # transforms.CenterCrop(32),\n",
        "        transforms.ToTensor(),\n",
        "        transforms.Normalize((0.5,), (0.5))\n",
        "])\n",
        "\n",
        "training = dataset.MNIST(root ='./data', transform = transform, train=True, download=True)\n",
        "testing =  dataset.MNIST(root ='./data', transform = transform, train=False, download=True)\n",
        "# traindata, valdata = data.Subset(training,range(0, 50000)), torch.utils.data.Subset(training, range(50000, 60000))\n",
        "# train_loader = data.DataLoader(dataset=traindata, batch_size = 100, shuffle=True)\n",
        "# test_loader = data.DataLoader(dataset=testing, batch_size = 100, shuffle=False)\n",
        "# vali_loader = data.DataLoader(dataset=valdata, batch_size = 100, shuffle=False)\n",
        "## \n",
        "\n"
      ],
      "execution_count": 3,
      "outputs": []
    },
    {
      "cell_type": "code",
      "metadata": {
        "colab": {
          "base_uri": "https://localhost:8080/",
          "height": 301
        },
        "id": "yW78F26l12GR",
        "outputId": "64d0fce1-1496-4555-95e9-a88791027cb4"
      },
      "source": [
        "print(training[0][0].shape)\n",
        "plt.imshow(training[0][0].squeeze(),cmap='gray', interpolation='none')"
      ],
      "execution_count": 4,
      "outputs": [
        {
          "output_type": "stream",
          "text": [
            "torch.Size([1, 28, 28])\n"
          ],
          "name": "stdout"
        },
        {
          "output_type": "execute_result",
          "data": {
            "text/plain": [
              "<matplotlib.image.AxesImage at 0x7fc9d2acbcc0>"
            ]
          },
          "metadata": {
            "tags": []
          },
          "execution_count": 4
        },
        {
          "output_type": "display_data",
          "data": {
            "image/png": "[encoded data removed]",
            "text/plain": [
              "<Figure size 432x288 with 1 Axes>"
            ]
          },
          "metadata": {
            "tags": [],
            "needs_background": "light"
          }
        }
      ]
    },
    {
      "cell_type": "markdown",
      "metadata": {
        "id": "TV5Sbsup4Qaf"
      },
      "source": [
        "## 2. Preparing GANs"
      ]
    },
    {
      "cell_type": "code",
      "metadata": {
        "colab": {
          "base_uri": "https://localhost:8080/"
        },
        "id": "HMkiaSRX2RWj",
        "outputId": "5ba33269-006c-4af5-f3f3-226e69791da7"
      },
      "source": [
        "digit = 5\n",
        "valIDX = 100\n",
        "idx = training.train_labels == digit\n",
        "# print(training[0][0].shape)\n",
        "\n",
        "x_digit = training.train_data[idx]\n",
        "y_digit = training.train_labels[idx]\n",
        "# print(x_digit[0].shape)\n",
        "\n",
        "x_train = x_digit[:-valIDX, ...]\n",
        "y_train = y_digit[:-valIDX]\n",
        "x_val = x_digit[-valIDX:, ...]  # this indexing means \"the last nb_val entries\" of the zeroth axis\n",
        "y_val = y_digit[-valIDX:]\n",
        "\n",
        "pad_amount = ((0, 0), (2,2), (2,2))\n",
        "\n",
        "# fix data\n",
        "x_train = np.pad(x_train, pad_amount, 'constant')\n",
        "x_val = np.pad(x_val, pad_amount, 'constant')\n",
        "print(x_train[0].shape)\n",
        "\n",
        "val_dataset = data.TensorDataset(torch.Tensor(x_val), y_val)\n",
        "\n",
        "\n",
        "# print(x_train.shape[0])"
      ],
      "execution_count": 5,
      "outputs": [
        {
          "output_type": "stream",
          "text": [
            "(32, 32)\n"
          ],
          "name": "stdout"
        },
        {
          "output_type": "stream",
          "text": [
            "/usr/local/lib/python3.6/dist-packages/torchvision/datasets/mnist.py:48: UserWarning: train_labels has been renamed targets\n",
            "  warnings.warn(\"train_labels has been renamed targets\")\n",
            "/usr/local/lib/python3.6/dist-packages/torchvision/datasets/mnist.py:58: UserWarning: train_data has been renamed data\n",
            "  warnings.warn(\"train_data has been renamed data\")\n"
          ],
          "name": "stderr"
        }
      ]
    },
    {
      "cell_type": "code",
      "metadata": {
        "id": "962ECiIK42PT"
      },
      "source": [
        "batch_size = 32\n",
        "\n",
        "if x_train.shape[0] % 2 ==0:\n",
        "  idx_moving, idx_fixed = train_test_split(range(x_train.shape[0]), test_size = .5)\n",
        "else:\n",
        "  idx_moving, idx_fixed = train_test_split(range(x_train.shape[0]-1), test_size = .5)\n",
        "training_set = data.TensorDataset(torch.Tensor(x_train[idx_moving, :]).unsqueeze(3),\n",
        "                                   torch.Tensor(x_train[idx_fixed, :]).unsqueeze(3))\n",
        "training_generator = data.DataLoader(training_set, batch_size=batch_size, shuffle=True)\n",
        "\n",
        "if x_val.shape[0] % 2 ==0:\n",
        "  idx_moving, idx_fixed = train_test_split(range(x_val.shape[0]), test_size = .5)\n",
        "else:\n",
        "  idx_moving, idx_fixed = train_test_split(range(x_val.shape[0]-1), test_size = .5)\n",
        "validation_set = data.TensorDataset(torch.Tensor(x_val[idx_moving, :]).unsqueeze(3),\n",
        "                                   torch.Tensor(x_val[idx_fixed, :]).unsqueeze(3))\n",
        "\n",
        "validation_generator = data.DataLoader(validation_set, batch_size=batch_size, shuffle=True)"
      ],
      "execution_count": 6,
      "outputs": []
    },
    {
      "cell_type": "code",
      "metadata": {
        "id": "fqW4t6e5NJW1"
      },
      "source": [
        "# for moving, fixed in validation_generator:\n",
        "#   print(moving.shape)"
      ],
      "execution_count": 7,
      "outputs": []
    },
    {
      "cell_type": "code",
      "metadata": {
        "id": "qWoHYtpS95GK"
      },
      "source": [
        "class VoxelMorph():\n",
        "    \"\"\"\n",
        "    VoxelMorph Class is a higher level interface for both 2D and 3D\n",
        "    Voxelmorph classes. It makes training easier and is scalable.\n",
        "    \"\"\"\n",
        "\n",
        "    def __init__(self, input_dims, is_2d=False, use_gpu=False):\n",
        "        self.dims = input_dims\n",
        "        if is_2d:\n",
        "            self.vm = vm2d\n",
        "            self.voxelmorph = vm2d.VoxelMorph2d(input_dims[0] * 2, use_gpu)\n",
        "        else:\n",
        "            self.vm = vm3d\n",
        "            self.voxelmorph = vm3d.VoxelMorph3d(input_dims[0] * 2, use_gpu)\n",
        "        self.optimizer = optim.SGD(self.voxelmorph.parameters(), lr=1e-4, momentum=0.99)\n",
        "        self.params = {'batch_size': 3,\n",
        "                       'shuffle': True,\n",
        "                       'num_workers': 6,\n",
        "                       'worker_init_fn': np.random.seed(42)\n",
        "                       }\n",
        "        self.device = torch.device(\"cuda:0\" if use_gpu else \"cpu\")\n",
        "\n",
        "    def check_dims(self, x):\n",
        "        try:\n",
        "            if x.shape[1:] == self.dims:\n",
        "                return\n",
        "            else:\n",
        "                raise TypeError\n",
        "        except TypeError as e:\n",
        "            print(\"Invalid Dimension Error. The supposed dimension is \",\n",
        "                  self.dims, \"But the dimension of the input is \", x.shape[1:])\n",
        "\n",
        "    def forward(self, x):\n",
        "        self.check_dims(x)\n",
        "        return voxelmorph(x)\n",
        "\n",
        "    def calculate_loss(self, y, ytrue, n=9, lamda=0.01, is_training=True):\n",
        "        loss = self.vm.vox_morph_loss(y, ytrue, n, lamda)\n",
        "        return loss\n",
        "\n",
        "    def train_model(self, batch_moving, batch_fixed, n=9, lamda=0.01, return_metric_score=True):\n",
        "        self.optimizer.zero_grad()\n",
        "        batch_fixed, batch_moving = batch_fixed.to(self.device), batch_moving.to(self.device)\n",
        "        registered_image, _ = self.voxelmorph(batch_moving, batch_fixed)\n",
        "        print(batch_fixed.shape)\n",
        "        train_loss = self.calculate_loss(registered_image, batch_fixed, n, lamda)\n",
        "        train_loss.backward()\n",
        "        self.optimizer.step()\n",
        "        if return_metric_score:\n",
        "            train_dice_score = self.vm.dice_score(registered_image, batch_fixed)\n",
        "            return train_loss, train_dice_score\n",
        "        return train_loss\n",
        "\n",
        "    def get_test_loss(self, batch_moving, batch_fixed, n=9, lamda=0.01):\n",
        "        with torch.set_grad_enabled(False):\n",
        "            registered_image, _ = self.voxelmorph(batch_moving, batch_fixed)\n",
        "            val_loss = self.vm.vox_morph_loss(registered_image, batch_fixed, n, lamda)\n",
        "            val_dice_score = self.vm.dice_score(registered_image, batch_fixed)\n",
        "            return val_loss, val_dice_score"
      ],
      "execution_count": 8,
      "outputs": []
    },
    {
      "cell_type": "code",
      "metadata": {
        "id": "MiR8kEs1JxwG"
      },
      "source": [
        "# def main():\n",
        "#     '''\n",
        "#     In this I'll take example of FIRE: Fundus Image Registration Dataset\n",
        "#     to demostrate the working of the API.\n",
        "#     '''\n",
        "#     vm = VoxelMorph((1, 32, 32), is_2d=True)  # Object of the higher level class\n",
        "#     # DATA_PATH = './fire-fundus-image-registration-dataset/'\n",
        "#     params = {'batch_size': 1,\n",
        "#               'shuffle': True,\n",
        "#               'num_workers': 6,\n",
        "#               'worker_init_fn': np.random.seed(42)\n",
        "#               }\n",
        "\n",
        "#     max_epochs = 2\n",
        "#     # filename = list(set([x.split('_')[0]\n",
        "#     #                      for x in os.listdir('./fire-fundus-image-registration-dataset/')]))\n",
        "#     # partition = {}\n",
        "#     # partition['train'], partition['validation'] = train_test_split(\n",
        "#     #     filename, test_size=0.33, random_state=42)\n",
        "\n",
        "#     # # Generators\n",
        "#     # training_set = Dataset(partition['train'])\n",
        "#     # training_generator = data.DataLoader(training_set, **params)\n",
        "\n",
        "#     # validation_set = Dataset(partition['validation'])\n",
        "#     # validation_generator = data.DataLoader(validation_set, **params)\n",
        "\n",
        "#     # Loop over epochs\n",
        "#     for epoch in range(max_epochs):\n",
        "#         start_time = time.time()\n",
        "#         train_loss = 0\n",
        "#         train_dice_score = 0\n",
        "#         val_loss = 0\n",
        "#         val_dice_score = 0\n",
        "#         for batch_moving, batch_fixed in training_generator:\n",
        "#             loss, dice = vm.train_model(batch_moving, batch_fixed)\n",
        "#             train_dice_score += dice.data\n",
        "#             train_loss += loss.data\n",
        "#         print('[', \"{0:.2f}\".format((time.time() - start_time) / 60), 'mins]', 'After', epoch + 1, 'epochs, the Average training loss is ', train_loss *\n",
        "#               params['batch_size'] / len(training_set), 'and average DICE score is', train_dice_score.data * params['batch_size'] / len(training_set))\n",
        "#         # Testing time\n",
        "#         start_time = time.time()\n",
        "#         for batch_moving, batch_fixed in validation_generator:\n",
        "#             # print(batch_moving.shape)\n",
        "#             # Transfer to GPU\n",
        "#             loss, dice = vm.get_test_loss(batch_moving, batch_fixed)\n",
        "#             val_dice_score += dice.data\n",
        "#             val_loss += loss.data\n",
        "#         print('[', \"{0:.2f}\".format((time.time() - start_time) / 60), 'mins]', 'After', epoch + 1, 'epochs, the Average validations loss is ', val_loss *\n",
        "#               params['batch_size'] / len(validation_set), 'and average DICE score is', val_dice_score.data * params['batch_size'] / len(validation_set))\n",
        "\n",
        "# if __name__ == \"__main__\":\n",
        "#     main()\n",
        "    "
      ],
      "execution_count": 9,
      "outputs": []
    },
    {
      "cell_type": "markdown",
      "metadata": {
        "id": "h5V7Oix6Oxi0"
      },
      "source": [
        "## 3. GANs"
      ]
    },
    {
      "cell_type": "code",
      "metadata": {
        "id": "XC49B04qO9Rh"
      },
      "source": [
        "def add_conv_stage(dim_in, dim_out, kernel_size = 4, stride = 2, padding = 1, bias = False):\n",
        "  return nn.Sequential(\n",
        "      nn.Conv2d(dim_in, dim_out, kernel_size=kernel_size, stride=stride, padding=padding, bias=bias),\n",
        "      nn.BatchNorm2d(dim_out),\n",
        "      nn.LeakyReLU(0.2, inplace=True)\n",
        "  )\n",
        "  \n",
        "  ## Define discriminator\n",
        "class discriminator(nn.Module):\n",
        "    # initializers\n",
        "    def __init__(self):\n",
        "        super(discriminator, self).__init__()\n",
        "        self.layers = nn.Sequential(\n",
        "            nn.Conv2d(1, 64, 4, 2, 1, bias=False),\n",
        "            nn.LeakyReLU(0.2, inplace=True),\n",
        "            add_conv_stage(64, 128),\n",
        "            add_conv_stage(128, 256),\n",
        "            add_conv_stage(256, 512),\n",
        "            nn.Conv2d(512, 1, 4,2,1, bias = False),\n",
        "            nn.LeakyReLU(0.2),\n",
        "            nn.Sigmoid()\n",
        "        )\n",
        "\n",
        "    # weight_init\n",
        "    def weight_init(self, mean, std):\n",
        "        for m in self._modules:\n",
        "            normal_init(self._modules[m], mean, std)\n",
        "\n",
        "    # forward method\n",
        "    def forward(self, input):\n",
        "        return self.layers(input)\n"
      ],
      "execution_count": 10,
      "outputs": []
    },
    {
      "cell_type": "code",
      "metadata": {
        "id": "1LTon_RaY3y3"
      },
      "source": [
        "## Generator\n",
        "vm = VoxelMorph((1, 32, 32), is_2d=True,  use_gpu=True)  # Object of the higher level class\n",
        "\n",
        "generator = vm.voxelmorph\n"
      ],
      "execution_count": 11,
      "outputs": []
    },
    {
      "cell_type": "code",
      "metadata": {
        "id": "JaX406BkE1XY"
      },
      "source": [
        "def weights_init(m):\n",
        "    classname = m.__class__.__name__\n",
        "    if classname.find('Conv') != -1:\n",
        "        nn.init.normal_(m.weight.data, 0.0, 0.02)\n",
        "    elif classname.find('BatchNorm') != -1:\n",
        "        nn.init.normal_(m.weight.data, 1.0, 0.02)\n",
        "        nn.init.constant_(m.bias.data, 0)"
      ],
      "execution_count": 12,
      "outputs": []
    },
    {
      "cell_type": "code",
      "metadata": {
        "id": "4LCNxPF_c4op",
        "colab": {
          "base_uri": "https://localhost:8080/"
        },
        "outputId": "1731bec0-bc66-4a9c-ca8d-4478c452c398"
      },
      "source": [
        "D = discriminator()\n",
        "G = generator\n",
        "\n",
        "lr_g = 2e-4\n",
        "lr_d = 1e-4\n",
        "\n",
        "D_losses = []\n",
        "G_losses = []\n",
        "G_losses_total = []\n",
        "\n",
        "BCELoss = nn.BCELoss()\n",
        "MSELoss = nn.MSELoss()\n",
        "KLDiveLoss = nn.KLDivLoss()\n",
        "\n",
        "SmoothingLoss = vm2d.smooothing_loss\n",
        "\n",
        "G_optimizer = optim.Adam(G.parameters(), lr=lr_g, betas=(.5, 0.999))\n",
        "# D_optimizer = optim.Adam(D.parameters(), lr=lr_d, betas=(.5, 0.999))\n",
        "D_optimizer = optim.SGD(D.parameters(), lr=lr_d)\n",
        "\n",
        "if use_gpu:\n",
        "    G = G.cuda()\n",
        "    D = D.cuda()\n",
        "D.apply(weights_init)\n",
        "G.apply(weights_init)"
      ],
      "execution_count": 13,
      "outputs": [
        {
          "output_type": "execute_result",
          "data": {
            "text/plain": [
              "VoxelMorph2d(\n",
              "  (unet): UNet(\n",
              "    (conv_encode1): Sequential(\n",
              "      (0): Conv2d(2, 32, kernel_size=(3, 3), stride=(1, 1), padding=(1, 1))\n",
              "      (1): BatchNorm2d(32, eps=1e-05, momentum=0.1, affine=True, track_running_stats=True)\n",
              "      (2): ReLU()\n",
              "      (3): Conv2d(32, 32, kernel_size=(3, 3), stride=(1, 1), padding=(1, 1))\n",
              "      (4): BatchNorm2d(32, eps=1e-05, momentum=0.1, affine=True, track_running_stats=True)\n",
              "      (5): ReLU()\n",
              "    )\n",
              "    (conv_maxpool1): MaxPool2d(kernel_size=2, stride=2, padding=0, dilation=1, ceil_mode=False)\n",
              "    (conv_encode2): Sequential(\n",
              "      (0): Conv2d(32, 64, kernel_size=(3, 3), stride=(1, 1), padding=(1, 1))\n",
              "      (1): BatchNorm2d(64, eps=1e-05, momentum=0.1, affine=True, track_running_stats=True)\n",
              "      (2): ReLU()\n",
              "      (3): Conv2d(64, 64, kernel_size=(3, 3), stride=(1, 1), padding=(1, 1))\n",
              "      (4): BatchNorm2d(64, eps=1e-05, momentum=0.1, affine=True, track_running_stats=True)\n",
              "      (5): ReLU()\n",
              "    )\n",
              "    (conv_maxpool2): MaxPool2d(kernel_size=2, stride=2, padding=0, dilation=1, ceil_mode=False)\n",
              "    (conv_encode3): Sequential(\n",
              "      (0): Conv2d(64, 128, kernel_size=(3, 3), stride=(1, 1), padding=(1, 1))\n",
              "      (1): BatchNorm2d(128, eps=1e-05, momentum=0.1, affine=True, track_running_stats=True)\n",
              "      (2): ReLU()\n",
              "      (3): Conv2d(128, 128, kernel_size=(3, 3), stride=(1, 1), padding=(1, 1))\n",
              "      (4): BatchNorm2d(128, eps=1e-05, momentum=0.1, affine=True, track_running_stats=True)\n",
              "      (5): ReLU()\n",
              "    )\n",
              "    (conv_maxpool3): MaxPool2d(kernel_size=2, stride=2, padding=0, dilation=1, ceil_mode=False)\n",
              "    (dropout): Dropout2d(p=0.3, inplace=False)\n",
              "    (bottleneck): Sequential(\n",
              "      (0): Conv2d(128, 256, kernel_size=(3, 3), stride=(1, 1), padding=(1, 1))\n",
              "      (1): BatchNorm2d(256, eps=1e-05, momentum=0.1, affine=True, track_running_stats=True)\n",
              "      (2): ReLU()\n",
              "      (3): Conv2d(256, 128, kernel_size=(3, 3), stride=(1, 1), padding=(1, 1))\n",
              "      (4): BatchNorm2d(128, eps=1e-05, momentum=0.1, affine=True, track_running_stats=True)\n",
              "      (5): ReLU()\n",
              "      (6): ConvTranspose2d(128, 128, kernel_size=(3, 3), stride=(2, 2), padding=(1, 1), output_padding=(1, 1))\n",
              "      (7): BatchNorm2d(128, eps=1e-05, momentum=0.1, affine=True, track_running_stats=True)\n",
              "      (8): ReLU()\n",
              "    )\n",
              "    (conv_decode3): Sequential(\n",
              "      (0): Conv2d(256, 128, kernel_size=(3, 3), stride=(1, 1), padding=(1, 1))\n",
              "      (1): BatchNorm2d(128, eps=1e-05, momentum=0.1, affine=True, track_running_stats=True)\n",
              "      (2): ReLU()\n",
              "      (3): Conv2d(128, 128, kernel_size=(3, 3), stride=(1, 1), padding=(1, 1))\n",
              "      (4): BatchNorm2d(128, eps=1e-05, momentum=0.1, affine=True, track_running_stats=True)\n",
              "      (5): ReLU()\n",
              "      (6): ConvTranspose2d(128, 64, kernel_size=(3, 3), stride=(2, 2), padding=(1, 1), output_padding=(1, 1))\n",
              "      (7): BatchNorm2d(64, eps=1e-05, momentum=0.1, affine=True, track_running_stats=True)\n",
              "      (8): ReLU()\n",
              "    )\n",
              "    (conv_decode2): Sequential(\n",
              "      (0): Conv2d(128, 64, kernel_size=(3, 3), stride=(1, 1), padding=(1, 1))\n",
              "      (1): BatchNorm2d(64, eps=1e-05, momentum=0.1, affine=True, track_running_stats=True)\n",
              "      (2): ReLU()\n",
              "      (3): Conv2d(64, 64, kernel_size=(3, 3), stride=(1, 1), padding=(1, 1))\n",
              "      (4): BatchNorm2d(64, eps=1e-05, momentum=0.1, affine=True, track_running_stats=True)\n",
              "      (5): ReLU()\n",
              "      (6): ConvTranspose2d(64, 32, kernel_size=(3, 3), stride=(2, 2), padding=(1, 1), output_padding=(1, 1))\n",
              "      (7): BatchNorm2d(32, eps=1e-05, momentum=0.1, affine=True, track_running_stats=True)\n",
              "      (8): ReLU()\n",
              "    )\n",
              "    (final_layer): Sequential(\n",
              "      (0): Conv2d(64, 32, kernel_size=(3, 3), stride=(1, 1), padding=(1, 1))\n",
              "      (1): BatchNorm2d(32, eps=1e-05, momentum=0.1, affine=True, track_running_stats=True)\n",
              "      (2): ReLU()\n",
              "      (3): Conv2d(32, 2, kernel_size=(3, 3), stride=(1, 1), padding=(1, 1))\n",
              "      (4): BatchNorm2d(2, eps=1e-05, momentum=0.1, affine=True, track_running_stats=True)\n",
              "      (5): Tanh()\n",
              "    )\n",
              "  )\n",
              "  (spatial_transform): SpatialTransformation()\n",
              ")"
            ]
          },
          "metadata": {
            "tags": []
          },
          "execution_count": 13
        }
      ]
    },
    {
      "cell_type": "code",
      "metadata": {
        "colab": {
          "base_uri": "https://localhost:8080/"
        },
        "id": "FVwO6M9C-aIO",
        "outputId": "00582f7d-8ab5-4467-8ab9-9ede132cd0a6"
      },
      "source": [
        "epochs = 80\n",
        "train_interval = 5\n",
        "for epoch in range(epochs):\n",
        "    \n",
        "    for batch_moving, batch_fixed in training_generator:\n",
        "\n",
        "        mini_batch = batch_moving.shape[0]\n",
        "\n",
        "        y_real_ = torch.ones(mini_batch)\n",
        "        y_fake_ = torch.zeros(mini_batch)\n",
        "\n",
        "        if use_gpu:\n",
        "            y_real_ = y_real_.cuda()\n",
        "            y_fake_ = y_fake_.cuda()\n",
        "            batch_moving = batch_moving.cuda()\n",
        "            batch_fixed = batch_fixed.cuda()\n",
        "\n",
        "        batch_fixed_reorder = batch_fixed.permute(0, 3, 1, 2)\n",
        "        batch_moving_reorder = batch_moving.permute(0, 3, 1, 2)\n",
        "\n",
        "        # Train discriminator D\n",
        "        D.zero_grad()\n",
        "        D_real = D(batch_moving_reorder).view(-1)\n",
        "        # D_real = D(batch_fixed_reorder).view(-1)\n",
        "\n",
        "        D_real_loss = BCELoss(D_real, Variable(y_real_))\n",
        "        D_real_loss.backward()\n",
        "\n",
        "        with torch.no_grad():\n",
        "            dat_fake, _ = G(batch_moving, batch_fixed)\n",
        "        dat_fake_reorder = dat_fake.permute(0, 3, 1, 2)\n",
        "\n",
        "        D_fake = D(dat_fake_reorder).view(-1)\n",
        "        D_fake_loss = BCELoss(D_fake, Variable(y_fake_))\n",
        "        D_fake_loss.backward()\n",
        "\n",
        "        D_optimizer.step()\n",
        "        D_train_loss = D_real_loss + D_fake_loss\n",
        "        D_losses.append(D_train_loss.data.item())\n",
        "\n",
        "        # Train generator G\n",
        "        for iter in range(train_interval):\n",
        "\n",
        "            G.zero_grad()\n",
        "            dat_fake, _ = G(batch_moving, batch_fixed)\n",
        "            dat_fake_reorder = dat_fake.permute(0, 3, 1, 2)\n",
        "\n",
        "            with torch.no_grad():\n",
        "              D_fake = D(dat_fake_reorder).view(-1)\n",
        "            G_train_loss = BCELoss(D_fake, Variable(y_real_))\n",
        "            G_train_loss_total = G_train_loss + 1e-3*MSELoss(dat_fake, batch_fixed)+1e-3*SmoothingLoss(dat_fake)\n",
        "\n",
        "            G_train_loss_total.backward()\n",
        "            G_optimizer.step()\n",
        "            G_losses.append(G_train_loss.data.item())\n",
        "            G_losses_total.append(G_train_loss_total.data.item())\n",
        "\n",
        "    print('[%d/%d] - loss_d: %.3f, loss_g: %.3f, loss_g_total: %.3f' % ((epoch + 1), epochs,\n",
        "                                                    torch.mean(torch.FloatTensor(D_losses)),\n",
        "                                                    torch.mean(torch.FloatTensor(G_losses)),\n",
        "                                                    torch.mean(torch.FloatTensor(G_losses_total))))\n"
      ],
      "execution_count": 14,
      "outputs": [
        {
          "output_type": "stream",
          "text": [
            "[1/80] - loss_d: 1.399, loss_g: 0.768, loss_g_total: 4.640\n",
            "[2/80] - loss_d: 1.393, loss_g: 0.764, loss_g_total: 4.321\n",
            "[3/80] - loss_d: 1.387, loss_g: 0.760, loss_g_total: 4.161\n",
            "[4/80] - loss_d: 1.381, loss_g: 0.756, loss_g_total: 4.065\n",
            "[5/80] - loss_d: 1.375, loss_g: 0.751, loss_g_total: 3.993\n",
            "[6/80] - loss_d: 1.367, loss_g: 0.744, loss_g_total: 3.938\n",
            "[7/80] - loss_d: 1.358, loss_g: 0.738, loss_g_total: 3.893\n",
            "[8/80] - loss_d: 1.348, loss_g: 0.730, loss_g_total: 3.856\n",
            "[9/80] - loss_d: 1.336, loss_g: 0.723, loss_g_total: 3.824\n",
            "[10/80] - loss_d: 1.324, loss_g: 0.717, loss_g_total: 3.798\n",
            "[11/80] - loss_d: 1.312, loss_g: 0.712, loss_g_total: 3.774\n",
            "[12/80] - loss_d: 1.300, loss_g: 0.708, loss_g_total: 3.754\n",
            "[13/80] - loss_d: 1.287, loss_g: 0.705, loss_g_total: 3.737\n",
            "[14/80] - loss_d: 1.275, loss_g: 0.702, loss_g_total: 3.723\n",
            "[15/80] - loss_d: 1.264, loss_g: 0.700, loss_g_total: 3.710\n",
            "[16/80] - loss_d: 1.252, loss_g: 0.698, loss_g_total: 3.699\n",
            "[17/80] - loss_d: 1.241, loss_g: 0.697, loss_g_total: 3.689\n",
            "[18/80] - loss_d: 1.231, loss_g: 0.696, loss_g_total: 3.680\n",
            "[19/80] - loss_d: 1.220, loss_g: 0.695, loss_g_total: 3.672\n",
            "[20/80] - loss_d: 1.211, loss_g: 0.695, loss_g_total: 3.665\n",
            "[21/80] - loss_d: 1.201, loss_g: 0.694, loss_g_total: 3.658\n",
            "[22/80] - loss_d: 1.192, loss_g: 0.694, loss_g_total: 3.652\n",
            "[23/80] - loss_d: 1.183, loss_g: 0.694, loss_g_total: 3.647\n",
            "[24/80] - loss_d: 1.174, loss_g: 0.695, loss_g_total: 3.642\n",
            "[25/80] - loss_d: 1.165, loss_g: 0.695, loss_g_total: 3.638\n",
            "[26/80] - loss_d: 1.157, loss_g: 0.695, loss_g_total: 3.634\n",
            "[27/80] - loss_d: 1.149, loss_g: 0.696, loss_g_total: 3.630\n",
            "[28/80] - loss_d: 1.141, loss_g: 0.696, loss_g_total: 3.627\n",
            "[29/80] - loss_d: 1.134, loss_g: 0.697, loss_g_total: 3.623\n",
            "[30/80] - loss_d: 1.126, loss_g: 0.698, loss_g_total: 3.621\n",
            "[31/80] - loss_d: 1.119, loss_g: 0.698, loss_g_total: 3.619\n",
            "[32/80] - loss_d: 1.112, loss_g: 0.699, loss_g_total: 3.617\n",
            "[33/80] - loss_d: 1.105, loss_g: 0.700, loss_g_total: 3.615\n",
            "[34/80] - loss_d: 1.099, loss_g: 0.701, loss_g_total: 3.613\n",
            "[35/80] - loss_d: 1.092, loss_g: 0.702, loss_g_total: 3.611\n",
            "[36/80] - loss_d: 1.086, loss_g: 0.703, loss_g_total: 3.609\n",
            "[37/80] - loss_d: 1.079, loss_g: 0.704, loss_g_total: 3.608\n",
            "[38/80] - loss_d: 1.073, loss_g: 0.705, loss_g_total: 3.606\n",
            "[39/80] - loss_d: 1.067, loss_g: 0.706, loss_g_total: 3.605\n",
            "[40/80] - loss_d: 1.062, loss_g: 0.707, loss_g_total: 3.604\n",
            "[41/80] - loss_d: 1.056, loss_g: 0.708, loss_g_total: 3.602\n",
            "[42/80] - loss_d: 1.050, loss_g: 0.709, loss_g_total: 3.601\n",
            "[43/80] - loss_d: 1.045, loss_g: 0.710, loss_g_total: 3.600\n",
            "[44/80] - loss_d: 1.040, loss_g: 0.711, loss_g_total: 3.600\n",
            "[45/80] - loss_d: 1.034, loss_g: 0.713, loss_g_total: 3.599\n",
            "[46/80] - loss_d: 1.029, loss_g: 0.714, loss_g_total: 3.598\n",
            "[47/80] - loss_d: 1.024, loss_g: 0.715, loss_g_total: 3.598\n",
            "[48/80] - loss_d: 1.019, loss_g: 0.716, loss_g_total: 3.597\n",
            "[49/80] - loss_d: 1.014, loss_g: 0.718, loss_g_total: 3.596\n",
            "[50/80] - loss_d: 1.009, loss_g: 0.719, loss_g_total: 3.597\n",
            "[51/80] - loss_d: 1.005, loss_g: 0.720, loss_g_total: 3.596\n",
            "[52/80] - loss_d: 1.000, loss_g: 0.722, loss_g_total: 3.596\n",
            "[53/80] - loss_d: 0.995, loss_g: 0.723, loss_g_total: 3.596\n",
            "[54/80] - loss_d: 0.991, loss_g: 0.724, loss_g_total: 3.596\n",
            "[55/80] - loss_d: 0.986, loss_g: 0.726, loss_g_total: 3.596\n",
            "[56/80] - loss_d: 0.982, loss_g: 0.727, loss_g_total: 3.596\n",
            "[57/80] - loss_d: 0.977, loss_g: 0.729, loss_g_total: 3.597\n",
            "[58/80] - loss_d: 0.973, loss_g: 0.730, loss_g_total: 3.597\n",
            "[59/80] - loss_d: 0.969, loss_g: 0.732, loss_g_total: 3.597\n",
            "[60/80] - loss_d: 0.965, loss_g: 0.733, loss_g_total: 3.598\n",
            "[61/80] - loss_d: 0.960, loss_g: 0.735, loss_g_total: 3.598\n",
            "[62/80] - loss_d: 0.956, loss_g: 0.736, loss_g_total: 3.599\n",
            "[63/80] - loss_d: 0.952, loss_g: 0.738, loss_g_total: 3.599\n",
            "[64/80] - loss_d: 0.948, loss_g: 0.740, loss_g_total: 3.600\n",
            "[65/80] - loss_d: 0.944, loss_g: 0.741, loss_g_total: 3.600\n",
            "[66/80] - loss_d: 0.940, loss_g: 0.743, loss_g_total: 3.601\n",
            "[67/80] - loss_d: 0.936, loss_g: 0.745, loss_g_total: 3.602\n",
            "[68/80] - loss_d: 0.933, loss_g: 0.746, loss_g_total: 3.602\n",
            "[69/80] - loss_d: 0.929, loss_g: 0.748, loss_g_total: 3.603\n",
            "[70/80] - loss_d: 0.925, loss_g: 0.750, loss_g_total: 3.604\n",
            "[71/80] - loss_d: 0.921, loss_g: 0.752, loss_g_total: 3.605\n",
            "[72/80] - loss_d: 0.918, loss_g: 0.753, loss_g_total: 3.606\n",
            "[73/80] - loss_d: 0.914, loss_g: 0.755, loss_g_total: 3.607\n",
            "[74/80] - loss_d: 0.911, loss_g: 0.757, loss_g_total: 3.608\n",
            "[75/80] - loss_d: 0.907, loss_g: 0.759, loss_g_total: 3.609\n",
            "[76/80] - loss_d: 0.904, loss_g: 0.761, loss_g_total: 3.610\n",
            "[77/80] - loss_d: 0.900, loss_g: 0.763, loss_g_total: 3.611\n",
            "[78/80] - loss_d: 0.897, loss_g: 0.765, loss_g_total: 3.612\n",
            "[79/80] - loss_d: 0.893, loss_g: 0.767, loss_g_total: 3.613\n",
            "[80/80] - loss_d: 0.890, loss_g: 0.769, loss_g_total: 3.614\n"
          ],
          "name": "stdout"
        }
      ]
    },
    {
      "cell_type": "code",
      "metadata": {
        "colab": {
          "base_uri": "https://localhost:8080/",
          "height": 295
        },
        "id": "TH1vaBFwIhfx",
        "outputId": "a8a8b54f-5e90-4ab7-bd55-968f5cee8602"
      },
      "source": [
        "#Plotting:\n",
        "\n",
        "#Losses:\n",
        "plt.subplot(1, 2, 1)\n",
        "plt.plot(D_losses)\n",
        "plt.title(\"D Loss\")\n",
        "plt.xlabel(\"Batch number\")\n",
        "plt.ylabel(\"Loss\")\n",
        "plt.subplot(1, 2, 2)\n",
        "plt.plot(G_losses)\n",
        "plt.title(\"G Loss\")\n",
        "plt.xlabel(\"Batch number\")\n",
        "plt.ylabel(\"Loss\");"
      ],
      "execution_count": 15,
      "outputs": [
        {
          "output_type": "display_data",
          "data": {
            "image/png": "[encoded data removed]",
            "text/plain": [
              "<Figure size 432x288 with 2 Axes>"
            ]
          },
          "metadata": {
            "tags": [],
            "needs_background": "light"
          }
        }
      ]
    },
    {
      "cell_type": "code",
      "metadata": {
        "id": "I7HjH6n8Ky2I"
      },
      "source": [
        "val_moving = validation_set[0:10][0]\n",
        "val_fixed = validation_set[0:10][1]\n",
        "\n",
        "if use_gpu:\n",
        "  val_moving = val_moving.cuda()\n",
        "  val_fixed = val_fixed.cuda()\n",
        "\n",
        "val_registered, defor = G(val_moving, val_fixed)"
      ],
      "execution_count": 18,
      "outputs": []
    },
    {
      "cell_type": "code",
      "metadata": {
        "colab": {
          "base_uri": "https://localhost:8080/",
          "height": 180
        },
        "id": "mqLlVVmmLV23",
        "outputId": "70eaa988-a197-4be0-edad-6cb57f422d9a"
      },
      "source": [
        "plt.subplot(1,3,1)\n",
        "plt.imshow(val_registered[0].cpu().data.numpy().squeeze(),cmap='gray', interpolation='none')\n",
        "plt.title(\"Registered Image\")\n",
        "plt.subplot(1,3,2)\n",
        "plt.imshow(val_fixed[0].cpu().data.numpy().squeeze(),cmap='gray', interpolation='none')\n",
        "plt.title(\"Fixed Image\")\n",
        "plt.subplot(1,3,3)\n",
        "plt.imshow(val_moving[0].cpu().data.numpy().squeeze(),cmap='gray', interpolation='none')\n",
        "plt.title(\"Moving Image\")\n"
      ],
      "execution_count": 17,
      "outputs": [
        {
          "output_type": "execute_result",
          "data": {
            "text/plain": [
              "Text(0.5, 1.0, 'Moving Image')"
            ]
          },
          "metadata": {
            "tags": []
          },
          "execution_count": 17
        },
        {
          "output_type": "display_data",
          "data": {
            "image/png": "[encoded data removed]",
            "text/plain": [
              "<Figure size 432x288 with 3 Axes>"
            ]
          },
          "metadata": {
            "tags": [],
            "needs_background": "light"
          }
        }
      ]
    },
    {
      "cell_type": "code",
      "metadata": {
        "id": "W72fRqRqV2gI",
        "colab": {
          "base_uri": "https://localhost:8080/",
          "height": 405
        },
        "outputId": "7eab7812-a434-4720-c733-75bb0818edb3"
      },
      "source": [
        "# !pip install neurite\r\n",
        "import neurite as ne\r\n",
        "ne.plot.flow([defor[1].cpu().data.numpy().squeeze()], width = 5)"
      ],
      "execution_count": 24,
      "outputs": [
        {
          "output_type": "display_data",
          "data": {
            "image/png": "[encoded data removed]",
            "text/plain": [
              "<Figure size 360x360 with 1 Axes>"
            ]
          },
          "metadata": {
            "tags": [],
            "needs_background": "light"
          }
        },
        {
          "output_type": "execute_result",
          "data": {
            "text/plain": [
              "(<Figure size 360x360 with 1 Axes>,\n",
              " [<matplotlib.axes._subplots.AxesSubplot at 0x7fc931955ef0>])"
            ]
          },
          "metadata": {
            "tags": []
          },
          "execution_count": 24
        }
      ]
    }
  ]
}