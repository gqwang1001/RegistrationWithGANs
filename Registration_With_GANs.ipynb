{
  "nbformat": 4,
  "nbformat_minor": 0,
  "metadata": {
    "colab": {
      "name": "Registration_With_GANs.ipynb",
      "provenance": [],
      "collapsed_sections": [],
      "machine_shape": "hm",
      "mount_file_id": "1Yg5lf-YjxwCJLnG-5bgwn-uXIMK_IZl-",
      "authorship_tag": "ABX9TyOy8QGOkgfNi08OqUdlg5Ho",
      "include_colab_link": true
    },
    "kernelspec": {
      "name": "python3",
      "display_name": "Python 3"
    },
    "accelerator": "GPU"
  },
  "cells": [
    {
      "cell_type": "markdown",
      "metadata": {
        "id": "view-in-github",
        "colab_type": "text"
      },
      "source": [
        "<a href=\"https://colab.research.google.com/github/gwang37/RegistrationWithGANs/blob/main/Registration_With_GANs.ipynb\" target=\"_parent\"><img src=\"https://colab.research.google.com/assets/colab-badge.svg\" alt=\"Open In Colab\"/></a>"
      ]
    },
    {
      "cell_type": "markdown",
      "metadata": {
        "id": "iCpCMEvosqi-"
      },
      "source": [
        "## 1. Prepare data and voxelMorph code\n",
        "\n"
      ]
    },
    {
      "cell_type": "code",
      "metadata": {
        "id": "3aZm4U9zrPiF",
        "colab": {
          "base_uri": "https://localhost:8080/"
        },
        "outputId": "c2ac8d43-b5ff-4c94-860d-05024c9f2440"
      },
      "source": [
        "from google.colab import drive\n",
        "drive.mount('/content/drive/')\n",
        "\n",
        "import os\n",
        "os.chdir('/content/drive/MyDrive/Colab Notebooks/final/RegistGans')"
      ],
      "execution_count": 1,
      "outputs": [
        {
          "output_type": "stream",
          "text": [
            "Drive already mounted at /content/drive/; to attempt to forcibly remount, call drive.mount(\"/content/drive/\", force_remount=True).\n"
          ],
          "name": "stdout"
        }
      ]
    },
    {
      "cell_type": "code",
      "metadata": {
        "id": "69-rlU7qsx8W"
      },
      "source": [
        "import voxelmorph2d as vm2d\n",
        "import voxelmorph3d as vm3d\n",
        "\n",
        "import numpy as np\n",
        "import matplotlib.pyplot as plt\n",
        "import skimage.io as io\n",
        "from skimage.transform import resize\n",
        "import multiprocessing as mp\n",
        "from tqdm import tqdm\n",
        "import gc\n",
        "import time\n",
        "from sklearn.model_selection import train_test_split\n",
        "from matplotlib.lines import Line2D\n",
        "import numpy as np\n",
        "\n",
        "import torch\n",
        "import torchvision\n",
        "import torch.nn as nn\n",
        "import torch.nn.functional as F\n",
        "import torchvision.datasets as dataset\n",
        "import torchvision.transforms as transforms\n",
        "import torch.optim as optim\n",
        "from torch.utils import data\n",
        "from torch.autograd import Variable\n",
        "\n",
        "use_gpu = torch.cuda.is_available()"
      ],
      "execution_count": 2,
      "outputs": []
    },
    {
      "cell_type": "code",
      "metadata": {
        "id": "VJXkMXgBx2Zi"
      },
      "source": [
        "## Basic dataloading for MNIST.\n",
        "# Just to make sure it works for the rest of this notebook.\n",
        "\n",
        "transform = transforms.Compose([\n",
        "        # transforms.Resize(32),\n",
        "        # transforms.CenterCrop(32),\n",
        "        transforms.ToTensor(),\n",
        "        transforms.Normalize((0.5,), (0.5))\n",
        "])\n",
        "\n",
        "training = dataset.MNIST(root ='./data', transform = transform, train=True, download=True)\n",
        "testing =  dataset.MNIST(root ='./data', transform = transform, train=False, download=True)\n",
        "# traindata, valdata = data.Subset(training,range(0, 50000)), torch.utils.data.Subset(training, range(50000, 60000))\n",
        "# train_loader = data.DataLoader(dataset=traindata, batch_size = 100, shuffle=True)\n",
        "# test_loader = data.DataLoader(dataset=testing, batch_size = 100, shuffle=False)\n",
        "# vali_loader = data.DataLoader(dataset=valdata, batch_size = 100, shuffle=False)\n",
        "## \n",
        "\n"
      ],
      "execution_count": 3,
      "outputs": []
    },
    {
      "cell_type": "code",
      "metadata": {
        "colab": {
          "base_uri": "https://localhost:8080/",
          "height": 301
        },
        "id": "yW78F26l12GR",
        "outputId": "54780c4c-9fe7-4959-f18c-7dd6f4098953"
      },
      "source": [
        "print(training[0][0].shape)\n",
        "plt.imshow(training[0][0].squeeze(),cmap='gray', interpolation='none')"
      ],
      "execution_count": 4,
      "outputs": [
        {
          "output_type": "stream",
          "text": [
            "torch.Size([1, 28, 28])\n"
          ],
          "name": "stdout"
        },
        {
          "output_type": "execute_result",
          "data": {
            "text/plain": [
              "<matplotlib.image.AxesImage at 0x7fea5c8e1dd8>"
            ]
          },
          "metadata": {
            "tags": []
          },
          "execution_count": 4
        },
        {
          "output_type": "display_data",
          "data": {
            "image/png": "[encoded data removed]",
            "text/plain": [
              "<Figure size 432x288 with 1 Axes>"
            ]
          },
          "metadata": {
            "tags": [],
            "needs_background": "light"
          }
        }
      ]
    },
    {
      "cell_type": "markdown",
      "metadata": {
        "id": "TV5Sbsup4Qaf"
      },
      "source": [
        "## 2. Preparing GANs"
      ]
    },
    {
      "cell_type": "code",
      "metadata": {
        "colab": {
          "base_uri": "https://localhost:8080/"
        },
        "id": "HMkiaSRX2RWj",
        "outputId": "81dba0b3-0340-41e8-fd26-8d7a3b80a488"
      },
      "source": [
        "digit = 5\n",
        "valIDX = 100\n",
        "idx = training.train_labels == digit\n",
        "# print(training[0][0].shape)\n",
        "\n",
        "x_digit = training.train_data[idx]\n",
        "y_digit = training.train_labels[idx]\n",
        "# print(x_digit[0].shape)\n",
        "\n",
        "x_train = x_digit[:-valIDX, ...]\n",
        "y_train = y_digit[:-valIDX]\n",
        "x_val = x_digit[-valIDX:, ...]  # this indexing means \"the last nb_val entries\" of the zeroth axis\n",
        "y_val = y_digit[-valIDX:]\n",
        "\n",
        "pad_amount = ((0, 0), (2,2), (2,2))\n",
        "\n",
        "# fix data\n",
        "x_train = np.pad(x_train, pad_amount, 'constant')\n",
        "x_val = np.pad(x_val, pad_amount, 'constant')\n",
        "print(x_train[0].shape)\n",
        "\n",
        "val_dataset = data.TensorDataset(torch.Tensor(x_val), y_val)\n",
        "\n",
        "\n",
        "# print(x_train.shape[0])"
      ],
      "execution_count": 5,
      "outputs": [
        {
          "output_type": "stream",
          "text": [
            "(32, 32)\n"
          ],
          "name": "stdout"
        },
        {
          "output_type": "stream",
          "text": [
            "/usr/local/lib/python3.6/dist-packages/torchvision/datasets/mnist.py:48: UserWarning: train_labels has been renamed targets\n",
            "  warnings.warn(\"train_labels has been renamed targets\")\n",
            "/usr/local/lib/python3.6/dist-packages/torchvision/datasets/mnist.py:58: UserWarning: train_data has been renamed data\n",
            "  warnings.warn(\"train_data has been renamed data\")\n"
          ],
          "name": "stderr"
        }
      ]
    },
    {
      "cell_type": "code",
      "metadata": {
        "id": "962ECiIK42PT"
      },
      "source": [
        "batch_size = 32\n",
        "\n",
        "if x_train.shape[0] % 2 ==0:\n",
        "  idx_moving, idx_fixed = train_test_split(range(x_train.shape[0]), test_size = .5)\n",
        "else:\n",
        "  idx_moving, idx_fixed = train_test_split(range(x_train.shape[0]-1), test_size = .5)\n",
        "training_set = data.TensorDataset(torch.Tensor(x_train[idx_moving, :]).unsqueeze(3),\n",
        "                                   torch.Tensor(x_train[idx_fixed, :]).unsqueeze(3))\n",
        "training_generator = data.DataLoader(training_set, batch_size=batch_size, shuffle=True)\n",
        "\n",
        "if x_val.shape[0] % 2 ==0:\n",
        "  idx_moving, idx_fixed = train_test_split(range(x_val.shape[0]), test_size = .5)\n",
        "else:\n",
        "  idx_moving, idx_fixed = train_test_split(range(x_val.shape[0]-1), test_size = .5)\n",
        "validation_set = data.TensorDataset(torch.Tensor(x_val[idx_moving, :]).unsqueeze(3),\n",
        "                                   torch.Tensor(x_val[idx_fixed, :]).unsqueeze(3))\n",
        "\n",
        "validation_generator = data.DataLoader(validation_set, batch_size=batch_size, shuffle=True)"
      ],
      "execution_count": 6,
      "outputs": []
    },
    {
      "cell_type": "code",
      "metadata": {
        "id": "fqW4t6e5NJW1"
      },
      "source": [
        "# for moving, fixed in validation_generator:\n",
        "#   print(moving.shape)"
      ],
      "execution_count": 7,
      "outputs": []
    },
    {
      "cell_type": "code",
      "metadata": {
        "id": "qWoHYtpS95GK"
      },
      "source": [
        "class VoxelMorph():\n",
        "    \"\"\"\n",
        "    VoxelMorph Class is a higher level interface for both 2D and 3D\n",
        "    Voxelmorph classes. It makes training easier and is scalable.\n",
        "    \"\"\"\n",
        "\n",
        "    def __init__(self, input_dims, is_2d=False, use_gpu=False):\n",
        "        self.dims = input_dims\n",
        "        if is_2d:\n",
        "            self.vm = vm2d\n",
        "            self.voxelmorph = vm2d.VoxelMorph2d(input_dims[0] * 2, use_gpu)\n",
        "        else:\n",
        "            self.vm = vm3d\n",
        "            self.voxelmorph = vm3d.VoxelMorph3d(input_dims[0] * 2, use_gpu)\n",
        "        self.optimizer = optim.SGD(self.voxelmorph.parameters(), lr=1e-4, momentum=0.99)\n",
        "        self.params = {'batch_size': 3,\n",
        "                       'shuffle': True,\n",
        "                       'num_workers': 6,\n",
        "                       'worker_init_fn': np.random.seed(42)\n",
        "                       }\n",
        "        self.device = torch.device(\"cuda:0\" if use_gpu else \"cpu\")\n",
        "\n",
        "    def check_dims(self, x):\n",
        "        try:\n",
        "            if x.shape[1:] == self.dims:\n",
        "                return\n",
        "            else:\n",
        "                raise TypeError\n",
        "        except TypeError as e:\n",
        "            print(\"Invalid Dimension Error. The supposed dimension is \",\n",
        "                  self.dims, \"But the dimension of the input is \", x.shape[1:])\n",
        "\n",
        "    def forward(self, x):\n",
        "        self.check_dims(x)\n",
        "        return voxelmorph(x)\n",
        "\n",
        "    def calculate_loss(self, y, ytrue, n=9, lamda=0.01, is_training=True):\n",
        "        loss = self.vm.vox_morph_loss(y, ytrue, n, lamda)\n",
        "        return loss\n",
        "\n",
        "    def train_model(self, batch_moving, batch_fixed, n=9, lamda=0.01, return_metric_score=True):\n",
        "        self.optimizer.zero_grad()\n",
        "        batch_fixed, batch_moving = batch_fixed.to(self.device), batch_moving.to(self.device)\n",
        "        registered_image, _ = self.voxelmorph(batch_moving, batch_fixed)\n",
        "        print(batch_fixed.shape)\n",
        "        train_loss = self.calculate_loss(registered_image, batch_fixed, n, lamda)\n",
        "        train_loss.backward()\n",
        "        self.optimizer.step()\n",
        "        if return_metric_score:\n",
        "            train_dice_score = self.vm.dice_score(registered_image, batch_fixed)\n",
        "            return train_loss, train_dice_score\n",
        "        return train_loss\n",
        "\n",
        "    def get_test_loss(self, batch_moving, batch_fixed, n=9, lamda=0.01):\n",
        "        with torch.set_grad_enabled(False):\n",
        "            registered_image, _ = self.voxelmorph(batch_moving, batch_fixed)\n",
        "            val_loss = self.vm.vox_morph_loss(registered_image, batch_fixed, n, lamda)\n",
        "            val_dice_score = self.vm.dice_score(registered_image, batch_fixed)\n",
        "            return val_loss, val_dice_score"
      ],
      "execution_count": 8,
      "outputs": []
    },
    {
      "cell_type": "code",
      "metadata": {
        "id": "MiR8kEs1JxwG"
      },
      "source": [
        "# def main():\n",
        "#     '''\n",
        "#     In this I'll take example of FIRE: Fundus Image Registration Dataset\n",
        "#     to demostrate the working of the API.\n",
        "#     '''\n",
        "#     vm = VoxelMorph((1, 32, 32), is_2d=True)  # Object of the higher level class\n",
        "#     # DATA_PATH = './fire-fundus-image-registration-dataset/'\n",
        "#     params = {'batch_size': 1,\n",
        "#               'shuffle': True,\n",
        "#               'num_workers': 6,\n",
        "#               'worker_init_fn': np.random.seed(42)\n",
        "#               }\n",
        "\n",
        "#     max_epochs = 2\n",
        "#     # filename = list(set([x.split('_')[0]\n",
        "#     #                      for x in os.listdir('./fire-fundus-image-registration-dataset/')]))\n",
        "#     # partition = {}\n",
        "#     # partition['train'], partition['validation'] = train_test_split(\n",
        "#     #     filename, test_size=0.33, random_state=42)\n",
        "\n",
        "#     # # Generators\n",
        "#     # training_set = Dataset(partition['train'])\n",
        "#     # training_generator = data.DataLoader(training_set, **params)\n",
        "\n",
        "#     # validation_set = Dataset(partition['validation'])\n",
        "#     # validation_generator = data.DataLoader(validation_set, **params)\n",
        "\n",
        "#     # Loop over epochs\n",
        "#     for epoch in range(max_epochs):\n",
        "#         start_time = time.time()\n",
        "#         train_loss = 0\n",
        "#         train_dice_score = 0\n",
        "#         val_loss = 0\n",
        "#         val_dice_score = 0\n",
        "#         for batch_moving, batch_fixed in training_generator:\n",
        "#             loss, dice = vm.train_model(batch_moving, batch_fixed)\n",
        "#             train_dice_score += dice.data\n",
        "#             train_loss += loss.data\n",
        "#         print('[', \"{0:.2f}\".format((time.time() - start_time) / 60), 'mins]', 'After', epoch + 1, 'epochs, the Average training loss is ', train_loss *\n",
        "#               params['batch_size'] / len(training_set), 'and average DICE score is', train_dice_score.data * params['batch_size'] / len(training_set))\n",
        "#         # Testing time\n",
        "#         start_time = time.time()\n",
        "#         for batch_moving, batch_fixed in validation_generator:\n",
        "#             # print(batch_moving.shape)\n",
        "#             # Transfer to GPU\n",
        "#             loss, dice = vm.get_test_loss(batch_moving, batch_fixed)\n",
        "#             val_dice_score += dice.data\n",
        "#             val_loss += loss.data\n",
        "#         print('[', \"{0:.2f}\".format((time.time() - start_time) / 60), 'mins]', 'After', epoch + 1, 'epochs, the Average validations loss is ', val_loss *\n",
        "#               params['batch_size'] / len(validation_set), 'and average DICE score is', val_dice_score.data * params['batch_size'] / len(validation_set))\n",
        "\n",
        "# if __name__ == \"__main__\":\n",
        "#     main()\n",
        "    "
      ],
      "execution_count": 9,
      "outputs": []
    },
    {
      "cell_type": "markdown",
      "metadata": {
        "id": "h5V7Oix6Oxi0"
      },
      "source": [
        "## 3. GANs"
      ]
    },
    {
      "cell_type": "code",
      "metadata": {
        "id": "XC49B04qO9Rh"
      },
      "source": [
        "def add_conv_stage(dim_in, dim_out, kernel_size = 4, stride = 2, padding = 1, bias = False):\n",
        "  return nn.Sequential(\n",
        "      nn.Conv2d(dim_in, dim_out, kernel_size=kernel_size, stride=stride, padding=padding, bias=bias),\n",
        "      nn.BatchNorm2d(dim_out),\n",
        "      nn.LeakyReLU(0.2, inplace=True)\n",
        "  )\n",
        "  \n",
        "  ## Define discriminator\n",
        "class discriminator(nn.Module):\n",
        "    # initializers\n",
        "    def __init__(self):\n",
        "        super(discriminator, self).__init__()\n",
        "        self.layers = nn.Sequential(\n",
        "            nn.Conv2d(1, 64, 4, 2, 1, bias=False),\n",
        "            nn.LeakyReLU(0.2, inplace=True),\n",
        "            add_conv_stage(64, 128),\n",
        "            add_conv_stage(128, 256),\n",
        "            add_conv_stage(256, 512),\n",
        "            nn.Conv2d(512, 1, 4,2,1, bias = False),\n",
        "            nn.LeakyReLU(0.2),\n",
        "            nn.Sigmoid()\n",
        "        )\n",
        "\n",
        "    # weight_init\n",
        "    def weight_init(self, mean, std):\n",
        "        for m in self._modules:\n",
        "            normal_init(self._modules[m], mean, std)\n",
        "\n",
        "    # forward method\n",
        "    def forward(self, input):\n",
        "        return self.layers(input)\n"
      ],
      "execution_count": 10,
      "outputs": []
    },
    {
      "cell_type": "code",
      "metadata": {
        "id": "1LTon_RaY3y3"
      },
      "source": [
        "## Generator\n",
        "vm = VoxelMorph((1, 32, 32), is_2d=True,  use_gpu=True)  # Object of the higher level class\n",
        "\n",
        "generator = vm.voxelmorph\n"
      ],
      "execution_count": 11,
      "outputs": []
    },
    {
      "cell_type": "code",
      "metadata": {
        "id": "JaX406BkE1XY"
      },
      "source": [
        "def weights_init(m):\n",
        "    classname = m.__class__.__name__\n",
        "    if classname.find('Conv') != -1:\n",
        "        nn.init.normal_(m.weight.data, 0.0, 0.02)\n",
        "    elif classname.find('BatchNorm') != -1:\n",
        "        nn.init.normal_(m.weight.data, 1.0, 0.02)\n",
        "        nn.init.constant_(m.bias.data, 0)"
      ],
      "execution_count": 12,
      "outputs": []
    },
    {
      "cell_type": "code",
      "metadata": {
        "id": "4LCNxPF_c4op",
        "colab": {
          "base_uri": "https://localhost:8080/"
        },
        "outputId": "d6986822-15c8-4a2e-e3fc-81ec65b319ce"
      },
      "source": [
        "D = discriminator()\n",
        "G = generator\n",
        "\n",
        "lr_g = 2e-4\n",
        "lr_d = 2e-4\n",
        "\n",
        "D_losses = []\n",
        "G_losses = []\n",
        "G_losses_total = []\n",
        "\n",
        "BCELoss = nn.BCELoss()\n",
        "MSELoss = nn.MSELoss()\n",
        "KLDiveLoss = nn.KLDivLoss()\n",
        "\n",
        "SmoothingLoss = vm2d.smooothing_loss\n",
        "\n",
        "G_optimizer = optim.Adam(G.parameters(), lr=lr_g, betas=(.5, 0.999))\n",
        "D_optimizer = optim.Adam(D.parameters(), lr=lr_d, betas=(.5, 0.999))\n",
        "# D_optimizer = optim.SGD(D.parameters(), lr=lr_d)\n",
        "\n",
        "if use_gpu:\n",
        "    G = G.cuda()\n",
        "    D = D.cuda()\n",
        "D.apply(weights_init)\n",
        "G.apply(weights_init)"
      ],
      "execution_count": 13,
      "outputs": [
        {
          "output_type": "execute_result",
          "data": {
            "text/plain": [
              "VoxelMorph2d(\n",
              "  (unet): UNet(\n",
              "    (conv_encode1): Sequential(\n",
              "      (0): Conv2d(2, 32, kernel_size=(3, 3), stride=(1, 1), padding=(1, 1))\n",
              "      (1): BatchNorm2d(32, eps=1e-05, momentum=0.1, affine=True, track_running_stats=True)\n",
              "      (2): ReLU()\n",
              "      (3): Conv2d(32, 32, kernel_size=(3, 3), stride=(1, 1), padding=(1, 1))\n",
              "      (4): BatchNorm2d(32, eps=1e-05, momentum=0.1, affine=True, track_running_stats=True)\n",
              "      (5): ReLU()\n",
              "    )\n",
              "    (conv_maxpool1): MaxPool2d(kernel_size=2, stride=2, padding=0, dilation=1, ceil_mode=False)\n",
              "    (conv_encode2): Sequential(\n",
              "      (0): Conv2d(32, 64, kernel_size=(3, 3), stride=(1, 1), padding=(1, 1))\n",
              "      (1): BatchNorm2d(64, eps=1e-05, momentum=0.1, affine=True, track_running_stats=True)\n",
              "      (2): ReLU()\n",
              "      (3): Conv2d(64, 64, kernel_size=(3, 3), stride=(1, 1), padding=(1, 1))\n",
              "      (4): BatchNorm2d(64, eps=1e-05, momentum=0.1, affine=True, track_running_stats=True)\n",
              "      (5): ReLU()\n",
              "    )\n",
              "    (conv_maxpool2): MaxPool2d(kernel_size=2, stride=2, padding=0, dilation=1, ceil_mode=False)\n",
              "    (conv_encode3): Sequential(\n",
              "      (0): Conv2d(64, 128, kernel_size=(3, 3), stride=(1, 1), padding=(1, 1))\n",
              "      (1): BatchNorm2d(128, eps=1e-05, momentum=0.1, affine=True, track_running_stats=True)\n",
              "      (2): ReLU()\n",
              "      (3): Conv2d(128, 128, kernel_size=(3, 3), stride=(1, 1), padding=(1, 1))\n",
              "      (4): BatchNorm2d(128, eps=1e-05, momentum=0.1, affine=True, track_running_stats=True)\n",
              "      (5): ReLU()\n",
              "    )\n",
              "    (conv_maxpool3): MaxPool2d(kernel_size=2, stride=2, padding=0, dilation=1, ceil_mode=False)\n",
              "    (dropout): Dropout2d(p=0.3, inplace=False)\n",
              "    (bottleneck): Sequential(\n",
              "      (0): Conv2d(128, 256, kernel_size=(3, 3), stride=(1, 1), padding=(1, 1))\n",
              "      (1): BatchNorm2d(256, eps=1e-05, momentum=0.1, affine=True, track_running_stats=True)\n",
              "      (2): ReLU()\n",
              "      (3): Conv2d(256, 128, kernel_size=(3, 3), stride=(1, 1), padding=(1, 1))\n",
              "      (4): BatchNorm2d(128, eps=1e-05, momentum=0.1, affine=True, track_running_stats=True)\n",
              "      (5): ReLU()\n",
              "      (6): ConvTranspose2d(128, 128, kernel_size=(3, 3), stride=(2, 2), padding=(1, 1), output_padding=(1, 1))\n",
              "      (7): BatchNorm2d(128, eps=1e-05, momentum=0.1, affine=True, track_running_stats=True)\n",
              "      (8): ReLU()\n",
              "    )\n",
              "    (conv_decode3): Sequential(\n",
              "      (0): Conv2d(256, 128, kernel_size=(3, 3), stride=(1, 1), padding=(1, 1))\n",
              "      (1): BatchNorm2d(128, eps=1e-05, momentum=0.1, affine=True, track_running_stats=True)\n",
              "      (2): ReLU()\n",
              "      (3): Conv2d(128, 128, kernel_size=(3, 3), stride=(1, 1), padding=(1, 1))\n",
              "      (4): BatchNorm2d(128, eps=1e-05, momentum=0.1, affine=True, track_running_stats=True)\n",
              "      (5): ReLU()\n",
              "      (6): ConvTranspose2d(128, 64, kernel_size=(3, 3), stride=(2, 2), padding=(1, 1), output_padding=(1, 1))\n",
              "      (7): BatchNorm2d(64, eps=1e-05, momentum=0.1, affine=True, track_running_stats=True)\n",
              "      (8): ReLU()\n",
              "    )\n",
              "    (conv_decode2): Sequential(\n",
              "      (0): Conv2d(128, 64, kernel_size=(3, 3), stride=(1, 1), padding=(1, 1))\n",
              "      (1): BatchNorm2d(64, eps=1e-05, momentum=0.1, affine=True, track_running_stats=True)\n",
              "      (2): ReLU()\n",
              "      (3): Conv2d(64, 64, kernel_size=(3, 3), stride=(1, 1), padding=(1, 1))\n",
              "      (4): BatchNorm2d(64, eps=1e-05, momentum=0.1, affine=True, track_running_stats=True)\n",
              "      (5): ReLU()\n",
              "      (6): ConvTranspose2d(64, 32, kernel_size=(3, 3), stride=(2, 2), padding=(1, 1), output_padding=(1, 1))\n",
              "      (7): BatchNorm2d(32, eps=1e-05, momentum=0.1, affine=True, track_running_stats=True)\n",
              "      (8): ReLU()\n",
              "    )\n",
              "    (final_layer): Sequential(\n",
              "      (0): Conv2d(64, 32, kernel_size=(3, 3), stride=(1, 1), padding=(1, 1))\n",
              "      (1): BatchNorm2d(32, eps=1e-05, momentum=0.1, affine=True, track_running_stats=True)\n",
              "      (2): ReLU()\n",
              "      (3): Conv2d(32, 2, kernel_size=(3, 3), stride=(1, 1), padding=(1, 1))\n",
              "      (4): BatchNorm2d(2, eps=1e-05, momentum=0.1, affine=True, track_running_stats=True)\n",
              "      (5): Tanh()\n",
              "    )\n",
              "  )\n",
              "  (spatial_transform): SpatialTransformation()\n",
              ")"
            ]
          },
          "metadata": {
            "tags": []
          },
          "execution_count": 13
        }
      ]
    },
    {
      "cell_type": "code",
      "metadata": {
        "colab": {
          "base_uri": "https://localhost:8080/"
        },
        "id": "FVwO6M9C-aIO",
        "outputId": "6bbef499-1d33-4521-9e0d-57516dcf6cfa"
      },
      "source": [
        "epochs = 20\n",
        "train_interval = 10\n",
        "for epoch in range(epochs):\n",
        "    \n",
        "    for batch_moving, batch_fixed in training_generator:\n",
        "\n",
        "        mini_batch = batch_moving.shape[0]\n",
        "\n",
        "        y_real_ = torch.ones(mini_batch)\n",
        "        y_fake_ = torch.zeros(mini_batch)\n",
        "\n",
        "        if use_gpu:\n",
        "            y_real_ = y_real_.cuda()\n",
        "            y_fake_ = y_fake_.cuda()\n",
        "            batch_moving = batch_moving.cuda()\n",
        "            batch_fixed = batch_fixed.cuda()\n",
        "\n",
        "        batch_fixed_reorder = batch_fixed.permute(0, 3, 1, 2)\n",
        "        batch_moving_reorder = batch_moving.permute(0, 3, 1, 2)\n",
        "\n",
        "        # Train discriminator D\n",
        "        D.zero_grad()\n",
        "        D_real = D(batch_moving_reorder).view(-1)\n",
        "        # D_real = D(batch_fixed_reorder).view(-1)\n",
        "\n",
        "        D_real_loss = BCELoss(D_real, Variable(y_real_))\n",
        "        D_real_loss.backward()\n",
        "\n",
        "        with torch.no_grad():\n",
        "            dat_fake, _ = G(batch_moving, batch_fixed)\n",
        "        dat_fake_reorder = dat_fake.permute(0, 3, 1, 2)\n",
        "\n",
        "        D_fake = D(dat_fake_reorder).view(-1)\n",
        "        D_fake_loss = BCELoss(D_fake, Variable(y_fake_))\n",
        "        D_fake_loss.backward()\n",
        "\n",
        "        D_optimizer.step()\n",
        "        D_train_loss = D_real_loss + D_fake_loss\n",
        "        D_losses.append(D_train_loss.data.item())\n",
        "\n",
        "        # Train generator G\n",
        "        for iter in range(train_interval):\n",
        "\n",
        "            G.zero_grad()\n",
        "            dat_fake, _ = G(batch_moving, batch_fixed)\n",
        "            dat_fake_reorder = dat_fake.permute(0, 3, 1, 2)\n",
        "\n",
        "            with torch.no_grad():\n",
        "              D_fake = D(dat_fake_reorder).view(-1)\n",
        "            G_train_loss = BCELoss(D_fake, Variable(y_real_))\n",
        "            G_train_loss_total = G_train_loss + 1e-3*MSELoss(dat_fake, batch_fixed)+1e-3*SmoothingLoss(dat_fake)\n",
        "\n",
        "            G_train_loss_total.backward()\n",
        "            G_optimizer.step()\n",
        "            G_losses.append(G_train_loss.data.item())\n",
        "            G_losses_total.append(G_train_loss_total.data.item())\n",
        "\n",
        "    print('[%d/%d] - loss_d: %.3f, loss_g: %.3f, loss_g_total: %.3f' % ((epoch + 1), epochs,\n",
        "                                                    torch.mean(torch.FloatTensor(D_losses)),\n",
        "                                                    torch.mean(torch.FloatTensor(G_losses)),\n",
        "                                                    torch.mean(torch.FloatTensor(G_losses_total))))\n"
      ],
      "execution_count": 14,
      "outputs": [
        {
          "output_type": "stream",
          "text": [
            "[1/20] - loss_d: 0.894, loss_g: 1.120, loss_g_total: 4.698\n",
            "[2/20] - loss_d: 0.610, loss_g: 1.457, loss_g_total: 4.788\n",
            "[3/20] - loss_d: 0.459, loss_g: 1.779, loss_g_total: 5.000\n",
            "[4/20] - loss_d: 0.403, loss_g: 1.996, loss_g_total: 5.148\n",
            "[5/20] - loss_d: 0.336, loss_g: 2.227, loss_g_total: 5.332\n",
            "[6/20] - loss_d: 0.286, loss_g: 2.451, loss_g_total: 5.522\n",
            "[7/20] - loss_d: 0.262, loss_g: 2.581, loss_g_total: 5.627\n",
            "[8/20] - loss_d: 0.236, loss_g: 2.703, loss_g_total: 5.728\n",
            "[9/20] - loss_d: 0.212, loss_g: 2.893, loss_g_total: 5.902\n",
            "[10/20] - loss_d: 0.197, loss_g: 3.010, loss_g_total: 6.005\n",
            "[11/20] - loss_d: 0.180, loss_g: 3.156, loss_g_total: 6.140\n",
            "[12/20] - loss_d: 0.167, loss_g: 3.261, loss_g_total: 6.235\n",
            "[13/20] - loss_d: 0.155, loss_g: 3.393, loss_g_total: 6.357\n",
            "[14/20] - loss_d: 0.145, loss_g: 3.515, loss_g_total: 6.472\n",
            "[15/20] - loss_d: 0.141, loss_g: 3.548, loss_g_total: 6.497\n",
            "[16/20] - loss_d: 0.134, loss_g: 3.613, loss_g_total: 6.557\n",
            "[17/20] - loss_d: 0.128, loss_g: 3.710, loss_g_total: 6.648\n",
            "[18/20] - loss_d: 0.126, loss_g: 3.750, loss_g_total: 6.682\n",
            "[19/20] - loss_d: 0.120, loss_g: 3.821, loss_g_total: 6.749\n",
            "[20/20] - loss_d: 0.115, loss_g: 3.889, loss_g_total: 6.812\n"
          ],
          "name": "stdout"
        }
      ]
    },
    {
      "cell_type": "code",
      "metadata": {
        "colab": {
          "base_uri": "https://localhost:8080/",
          "height": 295
        },
        "id": "TH1vaBFwIhfx",
        "outputId": "8d13162e-f4c7-41d0-f1a5-0874ccc23130"
      },
      "source": [
        "#Plotting:\n",
        "\n",
        "#Losses:\n",
        "plt.subplot(1, 2, 1)\n",
        "plt.plot(D_losses)\n",
        "plt.title(\"D Loss\")\n",
        "plt.xlabel(\"Batch number\")\n",
        "plt.ylabel(\"Loss\")\n",
        "plt.subplot(1, 2, 2)\n",
        "plt.plot(G_losses)\n",
        "plt.title(\"G Loss\")\n",
        "plt.xlabel(\"Batch number\")\n",
        "plt.ylabel(\"Loss\");"
      ],
      "execution_count": 15,
      "outputs": [
        {
          "output_type": "display_data",
          "data": {
            "image/png": "[encoded data removed]",
            "text/plain": [
              "<Figure size 432x288 with 2 Axes>"
            ]
          },
          "metadata": {
            "tags": [],
            "needs_background": "light"
          }
        }
      ]
    },
    {
      "cell_type": "code",
      "metadata": {
        "id": "I7HjH6n8Ky2I"
      },
      "source": [
        "val_moving = validation_set[0:10][0]\n",
        "val_fixed = validation_set[0:10][1]\n",
        "\n",
        "if use_gpu:\n",
        "  val_moving = val_moving.cuda()\n",
        "  val_fixed = val_fixed.cuda()\n",
        "\n",
        "val_registered,_ = G(val_moving, val_fixed)"
      ],
      "execution_count": 16,
      "outputs": []
    },
    {
      "cell_type": "code",
      "metadata": {
        "colab": {
          "base_uri": "https://localhost:8080/",
          "height": 180
        },
        "id": "mqLlVVmmLV23",
        "outputId": "85553fa3-bb67-4d2e-d121-4f2256b33687"
      },
      "source": [
        "plt.subplot(1,3,1)\n",
        "plt.imshow(val_registered[0].cpu().data.numpy().squeeze(),cmap='gray', interpolation='none')\n",
        "plt.title(\"Registered Image\")\n",
        "plt.subplot(1,3,2)\n",
        "plt.imshow(val_fixed[0].cpu().data.numpy().squeeze(),cmap='gray', interpolation='none')\n",
        "plt.title(\"Fixed Image\")\n",
        "plt.subplot(1,3,3)\n",
        "plt.imshow(val_moving[0].cpu().data.numpy().squeeze(),cmap='gray', interpolation='none')\n",
        "plt.title(\"Moving Image\")\n"
      ],
      "execution_count": 17,
      "outputs": [
        {
          "output_type": "execute_result",
          "data": {
            "text/plain": [
              "Text(0.5, 1.0, 'Moving Image')"
            ]
          },
          "metadata": {
            "tags": []
          },
          "execution_count": 17
        },
        {
          "output_type": "display_data",
          "data": {
            "image/png": "[encoded data removed]",
            "text/plain": [
              "<Figure size 432x288 with 3 Axes>"
            ]
          },
          "metadata": {
            "tags": [],
            "needs_background": "light"
          }
        }
      ]
    },
    {
      "cell_type": "code",
      "metadata": {
        "id": "W72fRqRqV2gI"
      },
      "source": [
        ""
      ],
      "execution_count": 17,
      "outputs": []
    }
  ]
}